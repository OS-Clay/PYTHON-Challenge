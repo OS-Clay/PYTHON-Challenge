{
 "cells": [
  {
   "cell_type": "code",
   "execution_count": 1,
   "metadata": {},
   "outputs": [],
   "source": [
    "import os\n",
    "import csv\n"
   ]
  },
  {
   "cell_type": "code",
   "execution_count": 37,
   "metadata": {},
   "outputs": [
    {
     "name": "stdout",
     "output_type": "stream",
     "text": [
      "There are 86 months\n",
      "The total is $ 38382578\n",
      "Average monthly is $ -361362.83\n",
      "Highest monthly profit $ 1170593 Feb-2012\n",
      "Lowest monthly profit $ -1196225 Sep-2013\n"
     ]
    }
   ],
   "source": [
    "\n",
    "\n",
    "filepath = os.path.join('..','Desktop','PyBank_Data.csv')\n",
    "with open(filepath) as csvfile:\n",
    "    \n",
    "    pydata = csv.reader(csvfile)\n",
    "    \n",
    "    headerline = next(pydata)\n",
    "    \n",
    "    \n",
    "    tot_trans = []\n",
    "    \n",
    "    diff = []\n",
    "    \n",
    "    #transactions = []\n",
    "\n",
    "    \n",
    "    highest = 0\n",
    "    \n",
    "    lowest = 0\n",
    "    \n",
    "    prev = 0\n",
    "    \n",
    "  \n",
    "        \n",
    "    \n",
    "    \n",
    "    for row in pydata:\n",
    "        \n",
    "        \n",
    "           tot_trans.append(int(row[1]))\n",
    "            \n",
    "           if int(row[1]) > highest :\n",
    "            \n",
    "            highest = int(row[1])\n",
    "            \n",
    "            high_month = str(row[0])\n",
    "            \n",
    "           if int(row[1]) < lowest :\n",
    "            \n",
    "            lowest = int(row[1])\n",
    "            \n",
    "            month_low = str(row[0])\n",
    "            \n",
    "            \n",
    "            #transactions.append(int(row[1]))\n",
    "            \n",
    "            month_end = int(row[1])\n",
    "    \n",
    "            change = month_end - prev\n",
    "        \n",
    "            diff.append(int(change))\n",
    "            \n",
    "            prev = change \n",
    "            \n",
    "            \n",
    "    \n",
    "           \n",
    "            \n",
    "    avg_change = round(sum(diff)/int(len(diff)), 2)\n",
    "    \n",
    "    \n",
    "    #print(round(avg_change))\n",
    "            \n",
    "            \n",
    "          \n",
    "            \n",
    "    avg_monthly_trans = sum(tot_trans)/len(tot_trans)\n",
    "    \n",
    "    print(\"There are\", len(tot_trans), \"months\")\n",
    "    \n",
    "    print(\"The total is $\", sum(tot_trans))\n",
    "    \n",
    "    print(\"Average monthly is $\", round(avg_change, 2))\n",
    "    \n",
    "    print(\"Highest monthly profit $\", highest, high_month)\n",
    "    print(\"Lowest monthly profit $\", lowest, month_low) \n",
    "    \n",
    "with open('PyBank.txt', \"w\") as txtwriter:\n",
    "          \n",
    "          txtwriter.write('There are 86 months. The total is $38382578.' \n",
    "                          'The monthly average is $-361362.83.' \n",
    "                          'The best month was Feb 2012 with $1170593'\n",
    "                          'The worst month was Sep 2013 with -$1196225'\n",
    "                           )\n",
    "          \n",
    "          txtwriter.close()\n",
    "  \n",
    "        \n",
    "    "
   ]
  },
  {
   "cell_type": "code",
   "execution_count": null,
   "metadata": {},
   "outputs": [],
   "source": []
  },
  {
   "cell_type": "code",
   "execution_count": null,
   "metadata": {},
   "outputs": [],
   "source": []
  }
 ],
 "metadata": {
  "kernelspec": {
   "display_name": "Python 3",
   "language": "python",
   "name": "python3"
  },
  "language_info": {
   "codemirror_mode": {
    "name": "ipython",
    "version": 3
   },
   "file_extension": ".py",
   "mimetype": "text/x-python",
   "name": "python",
   "nbconvert_exporter": "python",
   "pygments_lexer": "ipython3",
   "version": "3.7.6"
  }
 },
 "nbformat": 4,
 "nbformat_minor": 4
}
